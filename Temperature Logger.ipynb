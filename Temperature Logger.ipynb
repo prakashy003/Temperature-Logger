{
 "cells": [
  {
   "cell_type": "code",
   "execution_count": null,
   "id": "f057d4f4",
   "metadata": {},
   "outputs": [],
   "source": [
    "from gpiozero import CPUTemperature\n",
    "from time import sleep, strftime, time\n",
    "import matplotlib.pyplot as plt\n",
    "cpu = CPUTemperature()\n",
    "plt.ion()\n",
    "x = []\n",
    "y = []\n",
    "def write_temp(temp):\n",
    "    with open(\"/home/pi/cpu_temp.csv\", \"a\") as log:\n",
    "        log.write(\"{0},{1}\\n\".format(strftime(\"%Y-%m-%d %H:%M:%S\"),str(temp)))\n",
    "def graph(temp):\n",
    "    y.append(temp)\n",
    "    x.append(time())\n",
    "    plt.clf()\n",
    "    plt.scatter(x,y)\n",
    "    plt.plot(x,y)\n",
    "    plt.draw()\n",
    "while True:\n",
    "    temp = cpu.temperature\n",
    "    write_temp(temp)\n",
    "    graph(temp)\n",
    "    plt.pause(1)"
   ]
  }
 ],
 "metadata": {
  "kernelspec": {
   "display_name": "Python 3 (ipykernel)",
   "language": "python",
   "name": "python3"
  },
  "language_info": {
   "codemirror_mode": {
    "name": "ipython",
    "version": 3
   },
   "file_extension": ".py",
   "mimetype": "text/x-python",
   "name": "python",
   "nbconvert_exporter": "python",
   "pygments_lexer": "ipython3",
   "version": "3.11.4"
  }
 },
 "nbformat": 4,
 "nbformat_minor": 5
}
