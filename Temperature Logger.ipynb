{
 "cells": [
  {
   "cell_type": "code",
   "execution_count": 1,
   "id": "bdca5545",
   "metadata": {},
   "outputs": [
    {
     "name": "stderr",
     "output_type": "stream",
     "text": [
      "C:\\Users\\DELL\\AppData\\Local\\Programs\\Python\\Python311\\Lib\\site-packages\\gpiozero\\devices.py:288: PinFactoryFallback: Falling back from rpigpio: No module named 'RPi'\n",
      "  warnings.warn(\n",
      "C:\\Users\\DELL\\AppData\\Local\\Programs\\Python\\Python311\\Lib\\site-packages\\gpiozero\\devices.py:288: PinFactoryFallback: Falling back from lgpio: No module named 'lgpio'\n",
      "  warnings.warn(\n",
      "C:\\Users\\DELL\\AppData\\Local\\Programs\\Python\\Python311\\Lib\\site-packages\\gpiozero\\devices.py:288: PinFactoryFallback: Falling back from rpio: No module named 'RPIO'\n",
      "  warnings.warn(\n",
      "C:\\Users\\DELL\\AppData\\Local\\Programs\\Python\\Python311\\Lib\\site-packages\\gpiozero\\devices.py:288: PinFactoryFallback: Falling back from pigpio: No module named 'pigpio'\n",
      "  warnings.warn(\n",
      "C:\\Users\\DELL\\AppData\\Local\\Programs\\Python\\Python311\\Lib\\site-packages\\gpiozero\\devices.py:288: PinFactoryFallback: Falling back from native: [Errno 2] No such file or directory: '/proc/cpuinfo'\n",
      "  warnings.warn(\n"
     ]
    },
    {
     "ename": "BadPinFactory",
     "evalue": "Unable to load any default pin factory!",
     "output_type": "error",
     "traceback": [
      "\u001b[1;31m---------------------------------------------------------------------------\u001b[0m",
      "\u001b[1;31mBadPinFactory\u001b[0m                             Traceback (most recent call last)",
      "Cell \u001b[1;32mIn[1], line 4\u001b[0m\n\u001b[0;32m      2\u001b[0m \u001b[38;5;28;01mfrom\u001b[39;00m \u001b[38;5;21;01mtime\u001b[39;00m \u001b[38;5;28;01mimport\u001b[39;00m sleep, strftime, time\n\u001b[0;32m      3\u001b[0m \u001b[38;5;28;01mimport\u001b[39;00m \u001b[38;5;21;01mmatplotlib\u001b[39;00m\u001b[38;5;21;01m.\u001b[39;00m\u001b[38;5;21;01mpyplot\u001b[39;00m \u001b[38;5;28;01mas\u001b[39;00m \u001b[38;5;21;01mplt\u001b[39;00m\n\u001b[1;32m----> 4\u001b[0m cpu \u001b[38;5;241m=\u001b[39m \u001b[43mCPUTemperature\u001b[49m\u001b[43m(\u001b[49m\u001b[43m)\u001b[49m\n\u001b[0;32m      5\u001b[0m plt\u001b[38;5;241m.\u001b[39mion()\n\u001b[0;32m      6\u001b[0m x \u001b[38;5;241m=\u001b[39m []\n",
      "File \u001b[1;32m~\\AppData\\Local\\Programs\\Python\\Python311\\Lib\\site-packages\\gpiozero\\devices.py:108\u001b[0m, in \u001b[0;36mGPIOMeta.__call__\u001b[1;34m(cls, *args, **kwargs)\u001b[0m\n\u001b[0;32m    105\u001b[0m         \u001b[38;5;28mcls\u001b[39m\u001b[38;5;241m.\u001b[39m_instances[key] \u001b[38;5;241m=\u001b[39m weakref\u001b[38;5;241m.\u001b[39mref(\u001b[38;5;28mself\u001b[39m)\n\u001b[0;32m    106\u001b[0m \u001b[38;5;28;01melse\u001b[39;00m:\n\u001b[0;32m    107\u001b[0m     \u001b[38;5;66;03m# Construct the instance as normal\u001b[39;00m\n\u001b[1;32m--> 108\u001b[0m     \u001b[38;5;28mself\u001b[39m \u001b[38;5;241m=\u001b[39m \u001b[38;5;28;43msuper\u001b[39;49m\u001b[43m(\u001b[49m\u001b[43mGPIOMeta\u001b[49m\u001b[43m,\u001b[49m\u001b[43m \u001b[49m\u001b[38;5;28;43mcls\u001b[39;49m\u001b[43m)\u001b[49m\u001b[38;5;241;43m.\u001b[39;49m\u001b[38;5;21;43m__call__\u001b[39;49m\u001b[43m(\u001b[49m\u001b[38;5;241;43m*\u001b[39;49m\u001b[43margs\u001b[49m\u001b[43m,\u001b[49m\u001b[43m \u001b[49m\u001b[38;5;241;43m*\u001b[39;49m\u001b[38;5;241;43m*\u001b[39;49m\u001b[43mkwargs\u001b[49m\u001b[43m)\u001b[49m\n\u001b[0;32m    109\u001b[0m \u001b[38;5;66;03m# At this point __new__ and __init__ have all been run. We now fix the\u001b[39;00m\n\u001b[0;32m    110\u001b[0m \u001b[38;5;66;03m# set of attributes on the class by dir'ing the instance and creating a\u001b[39;00m\n\u001b[0;32m    111\u001b[0m \u001b[38;5;66;03m# frozenset of the result called __attrs__ (which is queried by\u001b[39;00m\n\u001b[0;32m    112\u001b[0m \u001b[38;5;66;03m# GPIOBase.__setattr__). An exception is made for SharedMixin devices\u001b[39;00m\n\u001b[0;32m    113\u001b[0m \u001b[38;5;66;03m# which can be constructed multiple times, returning the same instance\u001b[39;00m\n\u001b[0;32m    114\u001b[0m \u001b[38;5;28;01mif\u001b[39;00m \u001b[38;5;129;01mnot\u001b[39;00m \u001b[38;5;28missubclass\u001b[39m(\u001b[38;5;28mcls\u001b[39m, SharedMixin) \u001b[38;5;129;01mor\u001b[39;00m \u001b[38;5;28mself\u001b[39m\u001b[38;5;241m.\u001b[39m_refs \u001b[38;5;241m==\u001b[39m \u001b[38;5;241m1\u001b[39m:\n",
      "File \u001b[1;32m~\\AppData\\Local\\Programs\\Python\\Python311\\Lib\\site-packages\\gpiozero\\internal_devices.py:277\u001b[0m, in \u001b[0;36mCPUTemperature.__init__\u001b[1;34m(self, sensor_file, min_temp, max_temp, threshold, event_delay, pin_factory)\u001b[0m\n\u001b[0;32m    273\u001b[0m \u001b[38;5;28;01mdef\u001b[39;00m \u001b[38;5;21m__init__\u001b[39m(\u001b[38;5;28mself\u001b[39m, sensor_file\u001b[38;5;241m=\u001b[39m\u001b[38;5;124m'\u001b[39m\u001b[38;5;124m/sys/class/thermal/thermal_zone0/temp\u001b[39m\u001b[38;5;124m'\u001b[39m,\n\u001b[0;32m    274\u001b[0m         min_temp\u001b[38;5;241m=\u001b[39m\u001b[38;5;241m0.0\u001b[39m, max_temp\u001b[38;5;241m=\u001b[39m\u001b[38;5;241m100.0\u001b[39m, threshold\u001b[38;5;241m=\u001b[39m\u001b[38;5;241m80.0\u001b[39m, event_delay\u001b[38;5;241m=\u001b[39m\u001b[38;5;241m5.0\u001b[39m,\n\u001b[0;32m    275\u001b[0m         pin_factory\u001b[38;5;241m=\u001b[39m\u001b[38;5;28;01mNone\u001b[39;00m):\n\u001b[0;32m    276\u001b[0m     \u001b[38;5;28mself\u001b[39m\u001b[38;5;241m.\u001b[39msensor_file \u001b[38;5;241m=\u001b[39m sensor_file\n\u001b[1;32m--> 277\u001b[0m     \u001b[38;5;28;43msuper\u001b[39;49m\u001b[43m(\u001b[49m\u001b[43mCPUTemperature\u001b[49m\u001b[43m,\u001b[49m\u001b[43m \u001b[49m\u001b[38;5;28;43mself\u001b[39;49m\u001b[43m)\u001b[49m\u001b[38;5;241;43m.\u001b[39;49m\u001b[38;5;21;43m__init__\u001b[39;49m\u001b[43m(\u001b[49m\n\u001b[0;32m    278\u001b[0m \u001b[43m        \u001b[49m\u001b[43mevent_delay\u001b[49m\u001b[38;5;241;43m=\u001b[39;49m\u001b[43mevent_delay\u001b[49m\u001b[43m,\u001b[49m\u001b[43m \u001b[49m\u001b[43mpin_factory\u001b[49m\u001b[38;5;241;43m=\u001b[39;49m\u001b[43mpin_factory\u001b[49m\u001b[43m)\u001b[49m\n\u001b[0;32m    279\u001b[0m     \u001b[38;5;28;01mtry\u001b[39;00m:\n\u001b[0;32m    280\u001b[0m         \u001b[38;5;28;01mif\u001b[39;00m min_temp \u001b[38;5;241m>\u001b[39m\u001b[38;5;241m=\u001b[39m max_temp:\n",
      "File \u001b[1;32m~\\AppData\\Local\\Programs\\Python\\Python311\\Lib\\site-packages\\gpiozero\\internal_devices.py:69\u001b[0m, in \u001b[0;36mPolledInternalDevice.__init__\u001b[1;34m(self, event_delay, pin_factory)\u001b[0m\n\u001b[0;32m     67\u001b[0m \u001b[38;5;28mself\u001b[39m\u001b[38;5;241m.\u001b[39m_event_thread \u001b[38;5;241m=\u001b[39m \u001b[38;5;28;01mNone\u001b[39;00m\n\u001b[0;32m     68\u001b[0m \u001b[38;5;28mself\u001b[39m\u001b[38;5;241m.\u001b[39m_event_delay \u001b[38;5;241m=\u001b[39m event_delay\n\u001b[1;32m---> 69\u001b[0m \u001b[38;5;28;43msuper\u001b[39;49m\u001b[43m(\u001b[49m\u001b[43mPolledInternalDevice\u001b[49m\u001b[43m,\u001b[49m\u001b[43m \u001b[49m\u001b[38;5;28;43mself\u001b[39;49m\u001b[43m)\u001b[49m\u001b[38;5;241;43m.\u001b[39;49m\u001b[38;5;21;43m__init__\u001b[39;49m\u001b[43m(\u001b[49m\u001b[43mpin_factory\u001b[49m\u001b[38;5;241;43m=\u001b[39;49m\u001b[43mpin_factory\u001b[49m\u001b[43m)\u001b[49m\n",
      "File \u001b[1;32m~\\AppData\\Local\\Programs\\Python\\Python311\\Lib\\site-packages\\gpiozero\\internal_devices.py:42\u001b[0m, in \u001b[0;36mInternalDevice.__init__\u001b[1;34m(self, pin_factory)\u001b[0m\n\u001b[0;32m     40\u001b[0m \u001b[38;5;28;01mdef\u001b[39;00m \u001b[38;5;21m__init__\u001b[39m(\u001b[38;5;28mself\u001b[39m, pin_factory\u001b[38;5;241m=\u001b[39m\u001b[38;5;28;01mNone\u001b[39;00m):\n\u001b[0;32m     41\u001b[0m     \u001b[38;5;28mself\u001b[39m\u001b[38;5;241m.\u001b[39m_closed \u001b[38;5;241m=\u001b[39m \u001b[38;5;28;01mFalse\u001b[39;00m\n\u001b[1;32m---> 42\u001b[0m     \u001b[38;5;28;43msuper\u001b[39;49m\u001b[43m(\u001b[49m\u001b[43mInternalDevice\u001b[49m\u001b[43m,\u001b[49m\u001b[43m \u001b[49m\u001b[38;5;28;43mself\u001b[39;49m\u001b[43m)\u001b[49m\u001b[38;5;241;43m.\u001b[39;49m\u001b[38;5;21;43m__init__\u001b[39;49m\u001b[43m(\u001b[49m\u001b[43mpin_factory\u001b[49m\u001b[38;5;241;43m=\u001b[39;49m\u001b[43mpin_factory\u001b[49m\u001b[43m)\u001b[49m\n",
      "File \u001b[1;32m~\\AppData\\Local\\Programs\\Python\\Python311\\Lib\\site-packages\\gpiozero\\mixins.py:218\u001b[0m, in \u001b[0;36mEventsMixin.__init__\u001b[1;34m(self, *args, **kwargs)\u001b[0m\n\u001b[0;32m    217\u001b[0m \u001b[38;5;28;01mdef\u001b[39;00m \u001b[38;5;21m__init__\u001b[39m(\u001b[38;5;28mself\u001b[39m, \u001b[38;5;241m*\u001b[39margs, \u001b[38;5;241m*\u001b[39m\u001b[38;5;241m*\u001b[39mkwargs):\n\u001b[1;32m--> 218\u001b[0m     \u001b[38;5;28;43msuper\u001b[39;49m\u001b[43m(\u001b[49m\u001b[43mEventsMixin\u001b[49m\u001b[43m,\u001b[49m\u001b[43m \u001b[49m\u001b[38;5;28;43mself\u001b[39;49m\u001b[43m)\u001b[49m\u001b[38;5;241;43m.\u001b[39;49m\u001b[38;5;21;43m__init__\u001b[39;49m\u001b[43m(\u001b[49m\u001b[38;5;241;43m*\u001b[39;49m\u001b[43margs\u001b[49m\u001b[43m,\u001b[49m\u001b[43m \u001b[49m\u001b[38;5;241;43m*\u001b[39;49m\u001b[38;5;241;43m*\u001b[39;49m\u001b[43mkwargs\u001b[49m\u001b[43m)\u001b[49m\n\u001b[0;32m    219\u001b[0m     \u001b[38;5;28mself\u001b[39m\u001b[38;5;241m.\u001b[39m_active_event \u001b[38;5;241m=\u001b[39m Event()\n\u001b[0;32m    220\u001b[0m     \u001b[38;5;28mself\u001b[39m\u001b[38;5;241m.\u001b[39m_inactive_event \u001b[38;5;241m=\u001b[39m Event()\n",
      "File \u001b[1;32m~\\AppData\\Local\\Programs\\Python\\Python311\\Lib\\site-packages\\gpiozero\\devices.py:250\u001b[0m, in \u001b[0;36mDevice.__init__\u001b[1;34m(self, **kwargs)\u001b[0m\n\u001b[0;32m    248\u001b[0m \u001b[38;5;28;01mif\u001b[39;00m pin_factory \u001b[38;5;129;01mis\u001b[39;00m \u001b[38;5;28;01mNone\u001b[39;00m:\n\u001b[0;32m    249\u001b[0m     \u001b[38;5;28;01mif\u001b[39;00m Device\u001b[38;5;241m.\u001b[39mpin_factory \u001b[38;5;129;01mis\u001b[39;00m \u001b[38;5;28;01mNone\u001b[39;00m:\n\u001b[1;32m--> 250\u001b[0m         Device\u001b[38;5;241m.\u001b[39mpin_factory \u001b[38;5;241m=\u001b[39m \u001b[43mDevice\u001b[49m\u001b[38;5;241;43m.\u001b[39;49m\u001b[43m_default_pin_factory\u001b[49m\u001b[43m(\u001b[49m\u001b[43m)\u001b[49m\n\u001b[0;32m    251\u001b[0m     \u001b[38;5;28mself\u001b[39m\u001b[38;5;241m.\u001b[39mpin_factory \u001b[38;5;241m=\u001b[39m Device\u001b[38;5;241m.\u001b[39mpin_factory\n\u001b[0;32m    252\u001b[0m \u001b[38;5;28;01melse\u001b[39;00m:\n",
      "File \u001b[1;32m~\\AppData\\Local\\Programs\\Python\\Python311\\Lib\\site-packages\\gpiozero\\devices.py:291\u001b[0m, in \u001b[0;36mDevice._default_pin_factory\u001b[1;34m()\u001b[0m\n\u001b[0;32m    287\u001b[0m         \u001b[38;5;28;01mexcept\u001b[39;00m \u001b[38;5;167;01mException\u001b[39;00m \u001b[38;5;28;01mas\u001b[39;00m e:\n\u001b[0;32m    288\u001b[0m             warnings\u001b[38;5;241m.\u001b[39mwarn(\n\u001b[0;32m    289\u001b[0m                 PinFactoryFallback(\n\u001b[0;32m    290\u001b[0m                     \u001b[38;5;124m'\u001b[39m\u001b[38;5;124mFalling back from \u001b[39m\u001b[38;5;132;01m%s\u001b[39;00m\u001b[38;5;124m: \u001b[39m\u001b[38;5;132;01m%s\u001b[39;00m\u001b[38;5;124m'\u001b[39m \u001b[38;5;241m%\u001b[39m (name, \u001b[38;5;28mstr\u001b[39m(e))))\n\u001b[1;32m--> 291\u001b[0m     \u001b[38;5;28;01mraise\u001b[39;00m BadPinFactory(\u001b[38;5;124m'\u001b[39m\u001b[38;5;124mUnable to load any default pin factory!\u001b[39m\u001b[38;5;124m'\u001b[39m)\n\u001b[0;32m    292\u001b[0m \u001b[38;5;28;01melif\u001b[39;00m name \u001b[38;5;129;01min\u001b[39;00m default_factories:\n\u001b[0;32m    293\u001b[0m     \u001b[38;5;66;03m# As above, this is a fast-path optimization to avoid loading\u001b[39;00m\n\u001b[0;32m    294\u001b[0m     \u001b[38;5;66;03m# pkg_resources (which it turns out was 80% of gpiozero's import\u001b[39;00m\n\u001b[0;32m    295\u001b[0m     \u001b[38;5;66;03m# time!)\u001b[39;00m\n\u001b[0;32m    296\u001b[0m     mod_name, cls_name \u001b[38;5;241m=\u001b[39m default_factories[name]\u001b[38;5;241m.\u001b[39msplit(\u001b[38;5;124m'\u001b[39m\u001b[38;5;124m:\u001b[39m\u001b[38;5;124m'\u001b[39m, \u001b[38;5;241m1\u001b[39m)\n",
      "\u001b[1;31mBadPinFactory\u001b[0m: Unable to load any default pin factory!"
     ]
    }
   ],
   "source": [
    "from gpiozero import CPUTemperature\n",
    "from time import sleep, strftime, time\n",
    "import matplotlib.pyplot as plt\n",
    "cpu = CPUTemperature()\n",
    "plt.ion()\n",
    "x = []\n",
    "y = []\n",
    "def write_temp(temp):\n",
    "    with open(\"/home/pi/cpu_temp.csv\", \"a\") as log:\n",
    "        log.write(\"{0},{1}\\n\".format(strftime(\"%Y-%m-%d %H:%M:%S\"),str(temp)))\n",
    "def graph(temp):\n",
    "    y.append(temp)\n",
    "    x.append(time())\n",
    "    plt.clf()\n",
    "    plt.scatter(x,y)\n",
    "    plt.plot(x,y)\n",
    "    plt.draw()\n",
    "while True:\n",
    "    temp = cpu.temperature\n",
    "    write_temp(temp)\n",
    "    graph(temp)\n",
    "    plt.pause(1)"
   ]
  },
  {
   "cell_type": "code",
   "execution_count": null,
   "id": "f057d4f4",
   "metadata": {},
   "outputs": [],
   "source": []
  }
 ],
 "metadata": {
  "kernelspec": {
   "display_name": "Python 3 (ipykernel)",
   "language": "python",
   "name": "python3"
  },
  "language_info": {
   "codemirror_mode": {
    "name": "ipython",
    "version": 3
   },
   "file_extension": ".py",
   "mimetype": "text/x-python",
   "name": "python",
   "nbconvert_exporter": "python",
   "pygments_lexer": "ipython3",
   "version": "3.11.4"
  }
 },
 "nbformat": 4,
 "nbformat_minor": 5
}
